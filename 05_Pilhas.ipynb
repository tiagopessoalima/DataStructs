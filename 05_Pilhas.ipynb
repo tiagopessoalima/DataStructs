{
  "nbformat": 4,
  "nbformat_minor": 0,
  "metadata": {
    "colab": {
      "provenance": [],
      "authorship_tag": "ABX9TyOAxHpuKRhPW4V1Hth+fnwd",
      "include_colab_link": true
    },
    "kernelspec": {
      "name": "python3",
      "display_name": "Python 3"
    },
    "language_info": {
      "name": "python"
    }
  },
  "cells": [
    {
      "cell_type": "markdown",
      "metadata": {
        "id": "view-in-github",
        "colab_type": "text"
      },
      "source": [
        "<a href=\"https://colab.research.google.com/github/tiagopessoalima/DataStructs/blob/main/05_Pilhas.ipynb\" target=\"_parent\"><img src=\"https://colab.research.google.com/assets/colab-badge.svg\" alt=\"Open In Colab\"/></a>"
      ]
    },
    {
      "cell_type": "markdown",
      "source": [
        "# **Pilhas**"
      ],
      "metadata": {
        "id": "9E93r1XaJZnG"
      }
    },
    {
      "cell_type": "markdown",
      "source": [
        "São estruturas de dados lineares que seguem o princípio LIFO (Last In, First Out), onde o último elemento a ser inserido é também o primeiro a ser removido. Esse comportamento pode ser comparado a uma pilha de pratos. Você sempre coloca um prato no topo e, quando precisa retirar, tira o do topo também. As operações principais de uma pilha são:"
      ],
      "metadata": {
        "id": "IhAqTLKWJbn_"
      }
    },
    {
      "cell_type": "markdown",
      "source": [
        "- **Empilhar (push):** Adiciona um elemento no topo da pilha.\n",
        "- **Desempilhar (pop):** Remove o elemento do topo da pilha.\n",
        "- **Topo (top):** Acessa o elemento do topo da pilha sem removê-lo.\n",
        "- **Tamanho (size):** Retorna o número de elementos na pilha."
      ],
      "metadata": {
        "id": "jHlh9pBVKFfu"
      }
    },
    {
      "cell_type": "markdown",
      "source": [
        "As pilhas têm diversas aplicações, como:"
      ],
      "metadata": {
        "id": "h_spzw8-KvRf"
      }
    },
    {
      "cell_type": "markdown",
      "source": [
        "- **Histórico de navegação:** Os sites que você visita são \"empilhados\", e o botão \"voltar\" te leva para o site anterior (desempilha).\n",
        "- **Chamadas de funções:** Quando uma função chama outra, a primeira é \"empilhada\" e só volta a ser executada quando a segunda termina.\n",
        "- **Expressões matemáticas:** Pilhas são usadas para avaliar expressões matemáticas, como na conversão de notação infixa para pós-fixa."
      ],
      "metadata": {
        "id": "FdlLesqPKWhO"
      }
    },
    {
      "cell_type": "markdown",
      "source": [
        "Comparando Filas e Pilhas:"
      ],
      "metadata": {
        "id": "fiDIBFYWKrvk"
      }
    },
    {
      "cell_type": "markdown",
      "source": [
        "Característica | Fila | Pilha\n",
        "--- | --- | ---\n",
        "Princípio | FIFO (First In, First Out) | LIFO (Last In, First Out)\n",
        "Analogia | Fila de supermercado |\tPilha de pratos\n",
        "Inserção | Enfileirar (enqueue) |\tEmpilhar (push)\n",
        "Remoção | Desenfileirar (dequeue) | Desempilhar (pop)\n",
        "Acesso | Frente (front) | Topo (top)\n",
        "\n",
        "\n",
        "\n"
      ],
      "metadata": {
        "id": "w64GJ3rEKyyd"
      }
    },
    {
      "cell_type": "markdown",
      "source": [
        "## **Implementação da Classe Pilha**"
      ],
      "metadata": {
        "id": "b9Fr409zMOQd"
      }
    },
    {
      "cell_type": "code",
      "source": [
        "class Pilha:\n",
        "\n",
        "  def __init__(self):\n",
        "    \"\"\"Inicializa a pilha com uma lista vazia.\"\"\"\n",
        "    self.__itens = []\n",
        "\n",
        "  def __getitem__(self, indice):\n",
        "    \"\"\"Permite acessar um item da pilha com índice.\"\"\"\n",
        "    return self.__itens[indice]\n",
        "\n",
        "  def __len__(self):\n",
        "    \"\"\"Retorna o número de elementos na pilha.\"\"\"\n",
        "    return len(self.__itens)\n",
        "\n",
        "  def __repr__(self):\n",
        "    \"\"\"Retorna uma representação da pilha com seus elementos.\"\"\"\n",
        "    return f'Pilha: base -> {self.__itens} <- topo'\n",
        "\n",
        "  def empilhar(self, item):\n",
        "    \"\"\"Adiciona um item ao topo da pilha.\"\"\"\n",
        "    self.__itens.append(item)\n",
        "\n",
        "  def desempilhar(self):\n",
        "    \"\"\"Remove e retorna o item do topo da pilha. Levanta exceção se a pilha estiver vazia.\"\"\"\n",
        "    if self.esta_vazia():\n",
        "      raise IndexError(\"A pilha está vazia\")\n",
        "    return self.__itens.pop()\n",
        "\n",
        "  def esta_vazia(self):\n",
        "    \"\"\"Verifica se a pilha está vazia.\"\"\"\n",
        "    return not self.__itens\n",
        "\n",
        "  def topo(self):\n",
        "    \"\"\"Retorna o item do topo da pilha sem removê-lo. Levanta exceção se a pilha estiver vazia.\"\"\"\n",
        "    if self.esta_vazia():\n",
        "      raise IndexError(\"A pilha está vazia\")\n",
        "    return self.__itens[-1]"
      ],
      "metadata": {
        "id": "DFxF0hnYMeku"
      },
      "execution_count": null,
      "outputs": []
    },
    {
      "cell_type": "markdown",
      "source": [
        "**Observações:**\n",
        "\n",
        "- A principal diferença entre a Pilha e a Fila está nos métodos empilhar e desempilhar. Na Pilha, os elementos são adicionados e removidos do final da lista, enquanto na Fila eles são adicionados ao final e removidos do início.\n",
        "- O método `__repr__` foi modificado para indicar o topo e a base da pilha na representação em string.\n",
        "- Os métodos `esta_vazia`, `__len__` e `__getitem__` permanecem os mesmos, pois a lógica para verificar se a estrutura está vazia, obter o tamanho e acessar elementos por índice é a mesma para ambas as estruturas."
      ],
      "metadata": {
        "id": "13R-3kcHMsaH"
      }
    },
    {
      "cell_type": "markdown",
      "source": [
        "### **Execução e Testes da Pilha**"
      ],
      "metadata": {
        "id": "gndgo-dLNecE"
      }
    },
    {
      "cell_type": "markdown",
      "source": [
        "#### **1. Uso Básico da Pilha**"
      ],
      "metadata": {
        "id": "AoiKgdAuNiQ6"
      }
    },
    {
      "cell_type": "code",
      "source": [
        "# Criando uma instância da pilha\n",
        "pilha = Pilha()\n",
        "\n",
        "# Empilhando alguns elementos\n",
        "pilha.empilhar(10)\n",
        "pilha.empilhar(20)\n",
        "pilha.empilhar(30)\n",
        "\n",
        "# Exibindo a pilha\n",
        "print(pilha)  # topo -> [10, 20, 30] <- base\n",
        "\n",
        "# Verificando o comprimento da pilha\n",
        "print(\"Tamanho da pilha:\", len(pilha))  # 3\n",
        "\n",
        "# Desempilhando o último elemento\n",
        "print(\"Desempilhando:\", pilha.desempilhar())  # 30\n",
        "\n",
        "# Exibindo a pilha após desempilhar\n",
        "print(pilha)  # topo -> [10, 20] <- base"
      ],
      "metadata": {
        "colab": {
          "base_uri": "https://localhost:8080/"
        },
        "id": "RA2qdF42NuZm",
        "outputId": "c9c25d11-d10e-433e-b86a-a37128420f68"
      },
      "execution_count": null,
      "outputs": [
        {
          "output_type": "stream",
          "name": "stdout",
          "text": [
            "Pilha: base -> [10, 20, 30] <- topo\n",
            "Tamanho da pilha: 3\n",
            "Desempilhando: 30\n",
            "Pilha: base -> [10, 20] <- topo\n"
          ]
        }
      ]
    },
    {
      "cell_type": "markdown",
      "source": [
        "### **Exemplo Prático**"
      ],
      "metadata": {
        "id": "668JhGnjOS2K"
      }
    },
    {
      "cell_type": "markdown",
      "source": [
        "Implementaremos um editor de texto com funcionalidade \"desfazer\" que utiliza uma estrutura de dados de pilha para gerenciar o histórico de ações do usuário."
      ],
      "metadata": {
        "id": "_o-QviwaOTfV"
      }
    },
    {
      "cell_type": "code",
      "source": [
        "class EditorTexto:\n",
        "\n",
        "  def __init__(self):\n",
        "    \"\"\"Inicializa o editor de texto com um texto vazio e uma pilha de ações.\"\"\"\n",
        "    self.texto = \"\"\n",
        "    self.__historico = Pilha()\n",
        "\n",
        "  def escrever(self, texto):\n",
        "    \"\"\"Adiciona texto ao editor e guarda a ação na pilha.\"\"\"\n",
        "    self.__historico.empilhar((\"escrever\", texto))\n",
        "    self.texto += texto\n",
        "\n",
        "  def apagar(self, n):\n",
        "    \"\"\"Apaga os últimos n caracteres e guarda a ação na pilha.\"\"\"\n",
        "    texto_apagado = self.texto[-n:]\n",
        "    self.__historico.empilhar((\"apagar\", texto_apagado))\n",
        "    self.texto = self.texto[:-n]\n",
        "\n",
        "  def desfazer(self):\n",
        "    \"\"\"Desfaz a última ação realizada.\"\"\"\n",
        "    if self.__historico.esta_vazia():\n",
        "      print(\"Nada para desfazer.\")\n",
        "      return\n",
        "\n",
        "    acao, valor = self.__historico.desempilhar()\n",
        "    if acao == \"escrever\":\n",
        "      self.apagar(len(valor))\n",
        "    elif acao == \"apagar\":\n",
        "      self.escrever(valor)\n",
        "\n",
        "  def __repr__(self):\n",
        "    \"\"\"Exibe o texto atual.\"\"\"\n",
        "    return self.texto"
      ],
      "metadata": {
        "id": "Arx97aoeO2_X"
      },
      "execution_count": null,
      "outputs": []
    },
    {
      "cell_type": "code",
      "source": [
        "editor = EditorTexto()\n",
        "\n",
        "editor.escrever('Prof. ')\n",
        "editor.escrever('Tiago Pessoa Ferreira de Lima')\n",
        "editor.apagar(4)\n",
        "editor.desfazer()\n",
        "\n",
        "print(editor)"
      ],
      "metadata": {
        "colab": {
          "base_uri": "https://localhost:8080/"
        },
        "id": "hJdbe2qPI9P3",
        "outputId": "60ba6c57-34d1-4617-a29c-29f3277ade3a"
      },
      "execution_count": null,
      "outputs": [
        {
          "output_type": "stream",
          "name": "stdout",
          "text": [
            "Prof. Tiago Pessoa Ferreira de Lima\n"
          ]
        }
      ]
    },
    {
      "cell_type": "code",
      "source": [
        "# Exemplo de uso\n",
        "editor = EditorTexto()\n",
        "editor.escrever(\"Olá, \")\n",
        "editor.mostrar_texto()  # Olá,\n",
        "editor.escrever(\"mundo!\")\n",
        "editor.mostrar_texto()  # Olá, mundo!\n",
        "editor.apagar(6)\n",
        "editor.mostrar_texto()  # Olá,\n",
        "editor.desfazer()\n",
        "editor.mostrar_texto()  # Olá, mundo!\n",
        "editor.desfazer()\n",
        "editor.mostrar_texto()  # Olá,"
      ],
      "metadata": {
        "id": "wwGCFyOUI9Vv"
      },
      "execution_count": null,
      "outputs": []
    }
  ]
}