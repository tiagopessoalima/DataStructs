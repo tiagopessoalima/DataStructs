{
  "nbformat": 4,
  "nbformat_minor": 0,
  "metadata": {
    "colab": {
      "provenance": [],
      "include_colab_link": true
    },
    "kernelspec": {
      "name": "python3",
      "display_name": "Python 3"
    }
  },
  "cells": [
    {
      "cell_type": "markdown",
      "metadata": {
        "id": "view-in-github",
        "colab_type": "text"
      },
      "source": [
        "<a href=\"https://colab.research.google.com/github/tiagopessoalima/DataStructs/blob/main/04_Filas.ipynb\" target=\"_parent\"><img src=\"https://colab.research.google.com/assets/colab-badge.svg\" alt=\"Open In Colab\"/></a>"
      ]
    },
    {
      "cell_type": "markdown",
      "metadata": {
        "id": "ap_o02cuBZEF"
      },
      "source": [
        "# **Filas**"
      ]
    },
    {
      "cell_type": "markdown",
      "metadata": {
        "id": "a0JNE1FjToTJ"
      },
      "source": [
        "São estruturas de dados lineares que seguem o princípio **FIFO** (First In, First Out), onde o primeiro elemento a ser inserido é também o primeiro a ser removido. Esse comportamento pode ser comparado a uma fila em situações cotidianas, como uma fila de atendimento, onde o primeiro a entrar é o primeiro a ser atendido. As operações principais de uma fila são:\n",
        "\n",
        "- **Enfileirar (enqueue):** Adicionar um elemento ao final da fila.\n",
        "- **Desenfileirar (dequeue):** Remover o elemento da frente da fila.\n",
        "- **Frente (front):** Acessar o primeiro elemento da fila sem removê-lo.\n",
        "- **Tamanho (size):** Retornar o número de elementos presentes na fila.\n",
        "\n",
        "São utilizadas em sistemas computacionais que exigem processamento em uma ordem específica, como em sistemas de impressão, filas de execução de processos em sistemas operacionais, ou na transmissão de pacotes em redes de comunicação."
      ]
    },
    {
      "cell_type": "markdown",
      "metadata": {
        "id": "RmjsJSpYMuRq"
      },
      "source": [
        "## **Implementação da Classe Fila**"
      ]
    },
    {
      "cell_type": "code",
      "metadata": {
        "id": "_e-GE6dsBdvK"
      },
      "source": [
        "class Fila:\n",
        "\n",
        "  def __init__(self):\n",
        "    \"\"\"Inicializa a fila com uma lista vazia.\"\"\"\n",
        "    self.__itens = []\n",
        "\n",
        "  def __getitem__(self, posicao):\n",
        "    \"\"\"Permite acessar um item da fila com índice.\"\"\"\n",
        "    return self.__itens[posicao]\n",
        "\n",
        "  def __len__(self):\n",
        "    \"\"\"Retorna o número de elementos na fila.\"\"\"\n",
        "    return len(self.__itens)\n",
        "\n",
        "  def __repr__(self):\n",
        "    \"\"\"Retorna uma representação da fila com seus elementos.\"\"\"\n",
        "    return f'Fila: início -> {self.__itens} <- fim'\n",
        "\n",
        "  def enfileirar(self, item):\n",
        "    \"\"\"Adiciona um item ao final da fila.\"\"\"\n",
        "    self.__itens.append(item)\n",
        "\n",
        "  def desenfileirar(self):\n",
        "    \"\"\"Remove e retorna o item do início da fila. Levanta exceção se a fila estiver vazia.\"\"\"\n",
        "    if self.esta_vazia():\n",
        "      raise IndexError(\"A fila está vazia\")\n",
        "    return self.__itens.pop(0)\n",
        "\n",
        "  def esta_vazia(self):\n",
        "    \"\"\"Verifica se a fila está vazia.\"\"\"\n",
        "    return not self.__itens\n",
        "\n",
        "  def frente(self):\n",
        "    \"\"\"Retorna o item da frente da fila sem removê-lo. Levanta exceção se a fila estiver vazia.\"\"\"\n",
        "    if self.esta_vazia():\n",
        "      raise IndexError(\"A fila está vazia\")\n",
        "    return self.__itens[0]"
      ],
      "execution_count": 1,
      "outputs": []
    },
    {
      "cell_type": "markdown",
      "metadata": {
        "id": "yRKB2GJ4Uudd"
      },
      "source": [
        "### **Execução e Testes da Fila**"
      ]
    },
    {
      "cell_type": "markdown",
      "source": [
        "#### **1. Uso Básico da Fila**"
      ],
      "metadata": {
        "id": "Ge1xiXOX3q-W"
      }
    },
    {
      "cell_type": "code",
      "source": [
        "# Criando uma instância da fila\n",
        "fila = Fila()\n",
        "\n",
        "# Enfileirando alguns elementos\n",
        "fila.enfileirar(10)\n",
        "fila.enfileirar(20)\n",
        "fila.enfileirar(30)\n",
        "\n",
        "# Exibindo a fila\n",
        "print(fila)  # início -> Fila: [10, 20, 30] <- fim\n",
        "\n",
        "# Verificando o comprimento da fila\n",
        "print(\"Tamanho da fila:\", len(fila))  # 3\n",
        "\n",
        "# Desenfileirando o primeiro elemento\n",
        "print(\"Desenfileirando:\", fila.desenfileirar())  # 10\n",
        "\n",
        "# Exibindo a fila após desenfileirar\n",
        "print(fila)  # início -> Fila: [20, 30] <- fim"
      ],
      "metadata": {
        "colab": {
          "base_uri": "https://localhost:8080/"
        },
        "id": "hmrePfHR3v8X",
        "outputId": "460e3496-361b-4de2-82de-fa66b0fc7596"
      },
      "execution_count": 2,
      "outputs": [
        {
          "output_type": "stream",
          "name": "stdout",
          "text": [
            "Fila: início -> [10, 20, 30] <- fim\n",
            "Tamanho da fila: 3\n",
            "Desenfileirando: 10\n",
            "Fila: início -> [20, 30] <- fim\n"
          ]
        }
      ]
    },
    {
      "cell_type": "markdown",
      "source": [
        "#### **2. Acessando Elementos com Índices (Slicing)**"
      ],
      "metadata": {
        "id": "s3sTXV0b30OU"
      }
    },
    {
      "cell_type": "code",
      "source": [
        "# Adicionando mais elementos\n",
        "fila.enfileirar(40)\n",
        "fila.enfileirar(50)\n",
        "\n",
        "# Acessando elementos via índices\n",
        "print(\"Elemento no índice 1:\", fila[1])  # 30\n",
        "print(\"Slicing fila[1:3]:\", fila[1:3])  # [30, 40]\n",
        "\n",
        "# Exibindo toda a fila\n",
        "print(fila)  # início -> Fila: [20, 30, 40, 50] <- fim"
      ],
      "metadata": {
        "colab": {
          "base_uri": "https://localhost:8080/"
        },
        "id": "FFOrCLoD36Xr",
        "outputId": "9a6e3f25-ed70-4912-ec65-23cbaea09526"
      },
      "execution_count": 3,
      "outputs": [
        {
          "output_type": "stream",
          "name": "stdout",
          "text": [
            "Elemento no índice 1: 30\n",
            "Slicing fila[1:3]: [30, 40]\n",
            "Fila: início -> [20, 30, 40, 50] <- fim\n"
          ]
        }
      ]
    },
    {
      "cell_type": "markdown",
      "source": [
        "#### **3. Iteração com Loops for**\n"
      ],
      "metadata": {
        "id": "Qt2kcwwR4d48"
      }
    },
    {
      "cell_type": "code",
      "source": [
        "# Iterando sobre a fila com for\n",
        "print(\"Iterando sobre a fila:\")\n",
        "for item in fila:\n",
        "    print(item)"
      ],
      "metadata": {
        "colab": {
          "base_uri": "https://localhost:8080/"
        },
        "id": "SAB1BQoM4g0I",
        "outputId": "d1c82769-ddee-4f8d-c59b-4844b8318fa9"
      },
      "execution_count": 4,
      "outputs": [
        {
          "output_type": "stream",
          "name": "stdout",
          "text": [
            "Iterando sobre a fila:\n",
            "20\n",
            "30\n",
            "40\n",
            "50\n"
          ]
        }
      ]
    },
    {
      "cell_type": "markdown",
      "source": [
        "#### **4. Tratamento de Erros (Fila Vazia)**"
      ],
      "metadata": {
        "id": "1Ejf-Mn440rm"
      }
    },
    {
      "cell_type": "code",
      "source": [
        "# Desenfileirar todos os elementos\n",
        "fila.desenfileirar()\n",
        "fila.desenfileirar()\n",
        "fila.desenfileirar()\n",
        "fila.desenfileirar()\n",
        "\n",
        "# Tentando desenfileirar de uma fila vazia (levanta erro)\n",
        "try:\n",
        "    fila.desenfileirar()\n",
        "except IndexError as e:\n",
        "    print(e)  # \"A fila está vazia\""
      ],
      "metadata": {
        "colab": {
          "base_uri": "https://localhost:8080/"
        },
        "id": "9OIGMq1T44G3",
        "outputId": "7576673a-3b50-4084-db5b-f9d3f34f9d66"
      },
      "execution_count": 5,
      "outputs": [
        {
          "output_type": "stream",
          "name": "stdout",
          "text": [
            "A fila está vazia\n"
          ]
        }
      ]
    },
    {
      "cell_type": "markdown",
      "metadata": {
        "id": "vSmaS_eRULxX"
      },
      "source": [
        "### **Exemplo Prático**"
      ]
    },
    {
      "cell_type": "markdown",
      "metadata": {
        "id": "SqUalje_UNwt"
      },
      "source": [
        "O objetivo deste exemplo é simular o funcionamento de um elevador, utilizando uma fila para gerenciar os pedidos de andares."
      ]
    },
    {
      "cell_type": "code",
      "source": [
        "class Elevador:\n",
        "    def __init__(self, andares):\n",
        "        \"\"\"Inicializa o elevador no térreo (andar 0) e define o número de andares do prédio.\"\"\"\n",
        "        self.andar_atual = 0\n",
        "        self.__andares = andares\n",
        "        self.__chamadas = Fila()\n",
        "\n",
        "    def chamar(self, andar):\n",
        "        \"\"\"Adiciona um andar à fila de chamadas, se for válido.\"\"\"\n",
        "        if andar < 0 or andar >= self.__andares:\n",
        "            raise ValueError(\"Andar inválido\")\n",
        "        elif andar == self.andar_atual:\n",
        "            print(f\"O elevador já está no andar {andar}\")\n",
        "        elif andar not in self.__chamadas:\n",
        "            self.__chamadas.enfileirar(andar)\n",
        "        else:\n",
        "            print(f\"Já há uma chamada para o andar {andar}\")\n",
        "\n",
        "    def mover(self):\n",
        "        \"\"\"Move o elevador para o próximo andar da fila de chamadas.\"\"\"\n",
        "        if not self.__chamadas.esta_vazia():\n",
        "            proximo_andar = self.__chamadas.desenfileirar()\n",
        "            print(f\"Movendo do andar {self.andar_atual} para o andar {proximo_andar}.\")\n",
        "            self.andar_atual = proximo_andar\n",
        "        else:\n",
        "            print(\"Não há chamadas pendentes.\")\n",
        "\n",
        "    def status(self):\n",
        "        \"\"\"Retorna o status atual do elevador, incluindo o andar atual e as chamadas pendentes.\"\"\"\n",
        "        return f\"Elevador está no andar {self.andar_atual}. Chamadas pendentes: {self.__chamadas}\"\n",
        "\n",
        "    def esta_vazio(self):\n",
        "        \"\"\"Verifica se há chamadas pendentes.\"\"\"\n",
        "        return self.__chamadas.esta_vazia()\n",
        "\n",
        "# Exemplo de uso\n",
        "elevador = Elevador(10)  # Prédio com 10 andares (0 a 9)\n",
        "elevador.chamar(0)\n",
        "elevador.chamar(5)\n",
        "elevador.chamar(5)\n",
        "elevador.chamar(2)\n",
        "elevador.chamar(8)\n",
        "print(elevador.status())\n",
        "elevador.mover()\n",
        "print(elevador.status())\n",
        "elevador.mover()\n",
        "print(elevador.status())\n",
        "elevador.mover()\n",
        "print(elevador.status())"
      ],
      "metadata": {
        "colab": {
          "base_uri": "https://localhost:8080/"
        },
        "id": "yGORJEfBM8hh",
        "outputId": "5a028391-d87f-4921-f535-74dacb131978"
      },
      "execution_count": 6,
      "outputs": [
        {
          "output_type": "stream",
          "name": "stdout",
          "text": [
            "O elevador já está no andar 0\n",
            "Já há uma chamada para o andar 5\n",
            "Elevador está no andar 0. Chamadas pendentes: Fila: início -> [5, 2, 8] <- fim\n",
            "Movendo do andar 0 para o andar 5.\n",
            "Elevador está no andar 5. Chamadas pendentes: Fila: início -> [2, 8] <- fim\n",
            "Movendo do andar 5 para o andar 2.\n",
            "Elevador está no andar 2. Chamadas pendentes: Fila: início -> [8] <- fim\n",
            "Movendo do andar 2 para o andar 8.\n",
            "Elevador está no andar 8. Chamadas pendentes: Fila: início -> [] <- fim\n"
          ]
        }
      ]
    },
    {
      "cell_type": "markdown",
      "source": [
        "O sistema de controle do elevador implementa uma fila simples. Embora funcional, essa abordagem pode resultar em ineficiências operacionais. Esse comportamento ocorre devido à natureza da fila FIFO, que processa as solicitações na ordem de chegada, sem levar em consideração a localização atual do elevador, resultando em deslocamentos desnecessários e maior consumo de tempo e energia."
      ],
      "metadata": {
        "id": "CpSRdZMmwQJ7"
      }
    },
    {
      "cell_type": "markdown",
      "source": [
        "### **Otimização do Atendimento em Elevadores: O Papel das Filas de Prioridade**"
      ],
      "metadata": {
        "id": "NHqzkZ2xJj8_"
      }
    },
    {
      "cell_type": "markdown",
      "source": [
        "Uma fila de prioridade é uma estrutura de dados que permite organizar os elementos de acordo com sua prioridade. No caso do elevador, a prioridade pode ser definida com base em diversos fatores, como:\n",
        "\n",
        "- **Proximidade:** Priorizar os andares mais próximos do andar atual do elevador.\n",
        "- **Direção:** Priorizar os andares na mesma direção do movimento atual do elevador.\n",
        "- **Tempo de espera:** Priorizar os andares que estão esperando há mais tempo.\n",
        "- **Pedidos especiais:** Priorizar chamados de emergência ou de pessoas com necessidades especiais.\n",
        "\n",
        "Ao utilizar uma fila de prioridade, o elevador pode tomar decisões mais inteligentes sobre qual andar atender primeiro, otimizando o tempo de viagem, o consumo de energia e a satisfação dos usuários. Seu desafio é organizar a fila para minimizar o tempo de espera dos usuários e o consumo de energia do elevador, garantindo que ele atenda aos chamados de forma mais inteligente."
      ],
      "metadata": {
        "id": "ruELf3AjKMXR"
      }
    },
    {
      "cell_type": "code",
      "source": [
        "class FilaPrioridade(Fila):\n",
        "    def __init__(self):\n",
        "        \"\"\"Inicializa a fila com uma lista vazia, herdando da classe Fila.\"\"\"\n",
        "        super().__init__()\n",
        "    def enfileirar(self, item, reverse=False):\n",
        "        \"\"\"Adiciona um item à fila e ordena por prioridade.\"\"\"\n",
        "        self._Fila__itens.append(item)  # Acessa a lista de itens da classe pai\n",
        "        self._Fila__itens.sort(reverse=reverse)  # Ordena a lista com base na prioridade"
      ],
      "metadata": {
        "id": "uYoZwvmqSKIA"
      },
      "execution_count": 7,
      "outputs": []
    },
    {
      "cell_type": "code",
      "source": [
        "class Elevador:\n",
        "    def __init__(self, andares):\n",
        "        \"\"\"Inicializa o elevador no térreo (andar 0) e define o número de andares do prédio.\"\"\"\n",
        "        self.andar_atual = 0\n",
        "        self.__andares = andares\n",
        "        self.__subindo = FilaPrioridade()  # Chamadas para andares acima do andar atual\n",
        "        self.__descendo = FilaPrioridade()  # Chamadas para andares abaixo do andar atual\n",
        "        self.direcao_subindo = True  # O elevador inicialmente sobe\n",
        "\n",
        "    def chamar(self, andar):\n",
        "        \"\"\"Adiciona um andar à lista de chamadas (acima ou abaixo) com base no andar atual.\"\"\"\n",
        "        if andar < 0 or andar >= self.__andares:\n",
        "            raise ValueError(\"Andar inválido\")\n",
        "\n",
        "        if andar > self.andar_atual and andar not in self.__subindo:\n",
        "            self.__subindo.enfileirar(andar)\n",
        "        elif andar < self.andar_atual and andar not in self.__descendo:\n",
        "            self.__descendo.enfileirar(andar,True)\n",
        "        elif andar == self.andar_atual:\n",
        "            print(f\"O elevador já está no andar {andar}\")\n",
        "\n",
        "    def mover(self):\n",
        "        \"\"\"Move o elevador de maneira otimizada, atendendo chamadas no caminho atual.\"\"\"\n",
        "        if self.direcao_subindo:\n",
        "            # Atende o próximo andar na lista de subindo se existir\n",
        "            if self.__subindo:\n",
        "                proximo_andar = self.__subindo.desenfileirar()\n",
        "                print(f\"Movendo do andar {self.andar_atual} para o andar {proximo_andar}. (Subindo)\")\n",
        "                self.andar_atual = proximo_andar\n",
        "            else:\n",
        "                print(\"Mudando direção para descer.\")\n",
        "                self.direcao_subindo = False  # Muda a direção para descer\n",
        "                self.mover()  # Chama a função novamente para descer\n",
        "        else:\n",
        "            # Atende o próximo andar na lista de descendo se existir\n",
        "            if self.__descendo:\n",
        "                proximo_andar = self.__descendo.desenfileirar()\n",
        "                print(f\"Movendo do andar {self.andar_atual} para o andar {proximo_andar}. (Descendo)\")\n",
        "                self.andar_atual = proximo_andar\n",
        "            else:\n",
        "                print(\"Mudando direção para subir.\")\n",
        "                self.direcao_subindo = True  # Muda a direção para subir\n",
        "                self.mover()  # Chama a função novamente para subir\n",
        "\n",
        "    def status(self):\n",
        "        \"\"\"Retorna o status atual do elevador, incluindo o andar atual e as chamadas pendentes.\"\"\"\n",
        "        return f\"Elevador está no andar {self.andar_atual}. \" \\\n",
        "               f\"Chamadas subindo: {self.__subindo}, Chamadas descendo: {self.__descendo}\"\n",
        "\n",
        "    def esta_vazio(self):\n",
        "        \"\"\"Verifica se há chamadas pendentes.\"\"\"\n",
        "        return not self.__subindo and not self.__descendo\n",
        "\n",
        "# Exemplo de uso\n",
        "elevador = Elevador(10)  # Prédio com 10 andares (0 a 9)\n",
        "elevador.chamar(5)\n",
        "elevador.chamar(2)\n",
        "elevador.chamar(8)\n",
        "elevador.chamar(3)\n",
        "print(elevador.status())\n",
        "elevador.mover()\n",
        "elevador.chamar(0)\n",
        "print(elevador.status())\n",
        "elevador.mover()\n",
        "print(elevador.status())\n",
        "elevador.mover()\n",
        "print(elevador.status())\n",
        "elevador.mover()\n",
        "print(elevador.status())\n",
        "elevador.mover()\n",
        "print(elevador.status())"
      ],
      "metadata": {
        "id": "QzUlgKFcG2iA",
        "colab": {
          "base_uri": "https://localhost:8080/"
        },
        "outputId": "27399b7d-0c74-4cff-ea40-d13747280587"
      },
      "execution_count": 8,
      "outputs": [
        {
          "output_type": "stream",
          "name": "stdout",
          "text": [
            "Elevador está no andar 0. Chamadas subindo: Fila: início -> [2, 3, 5, 8] <- fim, Chamadas descendo: Fila: início -> [] <- fim\n",
            "Movendo do andar 0 para o andar 2. (Subindo)\n",
            "Elevador está no andar 2. Chamadas subindo: Fila: início -> [3, 5, 8] <- fim, Chamadas descendo: Fila: início -> [0] <- fim\n",
            "Movendo do andar 2 para o andar 3. (Subindo)\n",
            "Elevador está no andar 3. Chamadas subindo: Fila: início -> [5, 8] <- fim, Chamadas descendo: Fila: início -> [0] <- fim\n",
            "Movendo do andar 3 para o andar 5. (Subindo)\n",
            "Elevador está no andar 5. Chamadas subindo: Fila: início -> [8] <- fim, Chamadas descendo: Fila: início -> [0] <- fim\n",
            "Movendo do andar 5 para o andar 8. (Subindo)\n",
            "Elevador está no andar 8. Chamadas subindo: Fila: início -> [] <- fim, Chamadas descendo: Fila: início -> [0] <- fim\n",
            "Mudando direção para descer.\n",
            "Movendo do andar 8 para o andar 0. (Descendo)\n",
            "Elevador está no andar 0. Chamadas subindo: Fila: início -> [] <- fim, Chamadas descendo: Fila: início -> [] <- fim\n"
          ]
        }
      ]
    },
    {
      "cell_type": "markdown",
      "source": [
        "# **Exercícios**"
      ],
      "metadata": {
        "id": "r8cmLDpDbpZj"
      }
    },
    {
      "cell_type": "markdown",
      "source": [
        "1. Simulação de Atendimento: Implemente um sistema de simulação de atendimento em um banco, onde os clientes chegam em ordem aleatória e são atendidos por um número fixo de caixas. Utilize uma fila para representar a fila de espera dos clientes.\n",
        "\n"
      ],
      "metadata": {
        "id": "f8Cio0CAbszt"
      }
    },
    {
      "cell_type": "markdown",
      "source": [
        "2. Escalonador de Processos: Simule um escalonador de processos de um sistema operacional utilizando uma fila para gerenciar os processos em espera. Implemente diferentes algoritmos de escalonamento, como Round Robin e Prioridade."
      ],
      "metadata": {
        "id": "jo7WXIySb700"
      }
    },
    {
      "cell_type": "markdown",
      "source": [
        "# Material Complementar"
      ],
      "metadata": {
        "id": "tolKLadlYxeW"
      }
    },
    {
      "cell_type": "markdown",
      "source": [
        "[Introdução à Teoria das filas](https://www.youtube.com/watch?v=uNkHa1g5Pwg)"
      ],
      "metadata": {
        "id": "ixC6gPYtYz-T"
      }
    }
  ]
}